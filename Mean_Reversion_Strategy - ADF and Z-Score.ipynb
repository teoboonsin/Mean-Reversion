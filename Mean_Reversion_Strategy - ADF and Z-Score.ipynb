{
 "cells": [
  {
   "cell_type": "code",
   "execution_count": 1,
   "metadata": {},
   "outputs": [
    {
     "name": "stderr",
     "output_type": "stream",
     "text": [
      "C:\\Anaconda\\lib\\site-packages\\statsmodels\\compat\\pandas.py:56: FutureWarning: The pandas.core.datetools module is deprecated and will be removed in a future version. Please use the pandas.tseries module instead.\n",
      "  from pandas.core import datetools\n"
     ]
    },
    {
     "name": "stdout",
     "output_type": "stream",
     "text": [
      "Please input the number of the product you want to see the seasonals: 1) Brent 2) Gasoil 3) HO 4) RBOB 5) WTI: 4\n",
      "Please input the month of the contract which you wish to evaluate in numbers from 1-12: 7\n",
      "Please input the number of the product you want to see the seasonals: 1) Brent 2) Gasoil 3) HO 4) RBOB 5) WTI: 3\n",
      "Please input the month of the contract which you wish to evaluate in numbers from 1-12: 7\n"
     ]
    }
   ],
   "source": [
    "\n",
    "def z_factor(product1,product2):\n",
    "    z=1\n",
    "    y=1\n",
    "    factor=1000\n",
    "    if product1=='RB' and product2 =='RB':\n",
    "        z=42\n",
    "        y=42\n",
    "    elif product1=='HO' and product2 =='HO':\n",
    "        z=42\n",
    "        y=42\n",
    "    elif product1=='RB' and product2 =='HO':\n",
    "        z=42\n",
    "        y=42\n",
    "    elif product1=='HO' and product2 =='RB':\n",
    "        z=42\n",
    "        y=42\n",
    "    elif product1=='G' and product2 =='G':\n",
    "        factor=100\n",
    "    elif product1=='G' and product2 =='B':\n",
    "        z=(1/7.45)\n",
    "    elif product1==\"HO\" and product2=='G':\n",
    "        z=1\n",
    "        y=1\n",
    "    \n",
    "    else:\n",
    "        z=1\n",
    "        y=1\n",
    "        factor=1000\n",
    "    \n",
    "    return z,y, factor\n",
    "        \n",
    "def create_sprd(dataframe1, dataframe2):\n",
    "   \n",
    "    dataframe1.reset_index(inplace=True)\n",
    "    dataframe2.reset_index(inplace=True)\n",
    "    date=dataframe1['Date']\n",
    "    \n",
    "    dataframe1.drop(columns=['Date'],inplace=True)\n",
    "    dataframe2.drop(columns=['Date'],inplace=True)\n",
    "    \n",
    "    while True:\n",
    "        sprd_type=int(raw_input('Please indicate if this is a 1) Crack or 2) Spread 3) HOGO Sprd - please input integer 1,2, or 3: '))\n",
    "        \n",
    "        if sprd_type==1:\n",
    "            \n",
    "            new_df=dataframe1*42-dataframe2\n",
    "            new_df['Date']=date\n",
    "            new_df.set_index('Date',inplace=True)\n",
    "            new_df.fillna(method='ffill',inplace=True)\n",
    "            new_df.fillna(method='bfill',inplace=True)\n",
    "            \n",
    "            return new_df\n",
    "            break\n",
    "        \n",
    "        elif sprd_type==2:\n",
    "            \n",
    "            new_df= dataframe1-dataframe2\n",
    "            new_df['Date']=date\n",
    "            new_df.set_index('Date',inplace=True)\n",
    "            new_df.fillna(method='ffill',inplace=True)\n",
    "            new_df.fillna(method='bfill',inplace=True)\n",
    "            \n",
    "            return new_df\n",
    "            break\n",
    "        \n",
    "        elif sprd_type==3:\n",
    "            \n",
    "            new_df=dataframe1*42-dataframe2/7.45\n",
    "            new_df['Date']=date\n",
    "            new_df.set_index('Date',inplace=True)\n",
    "            new_df.fillna(method='ffill',inplace=True)\n",
    "            new_df.fillna(method='bfill',inplace=True)\n",
    "            \n",
    "            return new_df\n",
    "            break\n",
    "        \n",
    "        else:\n",
    "            print 'You have inputted incorrectly. Please try again and enter either integer 1,2, or 3.'\n",
    "    \n",
    "\n",
    "class Mth_1(object):\n",
    "    \n",
    "    def __init__(self):\n",
    "        pass\n",
    "        \n",
    "    def pdt_type1(self):\n",
    "        \n",
    "        product=''\n",
    "        while True:\n",
    "            inst=int(raw_input('Please input the number of the product you want to see the seasonals: 1) Brent 2) Gasoil 3) HO 4) RBOB 5) WTI: '))\n",
    "    \n",
    "            if inst==1:\n",
    "                product='B'\n",
    "                break\n",
    "            elif inst==2:\n",
    "                product='G'\n",
    "                break   \n",
    "            elif inst==3:\n",
    "                product='HO'\n",
    "                break      \n",
    "            elif inst==4:\n",
    "                product='RB'\n",
    "                break       \n",
    "            elif inst==5:\n",
    "                product='CL'\n",
    "                break       \n",
    "            else:\n",
    "                print 'You did not input a correct number. Please try again.'\n",
    "        \n",
    "        return product\n",
    "        \n",
    "    \n",
    "    def mth_no1(self):\n",
    "        month=''\n",
    "        while True:\n",
    "            Mth=int(raw_input('Please input the month of the contract which you wish to evaluate in numbers from 1-12: '))\n",
    "    \n",
    "            if Mth==1:\n",
    "                month='Jan'\n",
    "                break\n",
    "            elif Mth==2:\n",
    "                month='Feb'\n",
    "                break   \n",
    "            elif Mth==3:\n",
    "                month='Mar'\n",
    "                break   \n",
    "            elif Mth==4:\n",
    "                month='Apr'\n",
    "                break   \n",
    "            elif Mth==5:\n",
    "                month='May'\n",
    "                break          \n",
    "            elif Mth==6:\n",
    "                month='Jun'\n",
    "                break   \n",
    "            elif Mth==7:\n",
    "                month='Jul'\n",
    "                break   \n",
    "            elif Mth==8:\n",
    "                month='Aug'\n",
    "                break   \n",
    "            elif Mth==9:\n",
    "                month='Sep'\n",
    "                break   \n",
    "            elif Mth==10:\n",
    "                month='Oct'\n",
    "                break   \n",
    "            elif Mth==11:\n",
    "                month='Nov'\n",
    "                break   \n",
    "            elif Mth==12:\n",
    "                month='Dec'\n",
    "                break \n",
    "            else:\n",
    "                print 'You did not input a correct number. Please try again.'\n",
    "        \n",
    "        return month\n",
    "\n",
    "    def dataframe_create(self,start_mth,start_day,end_mth,end_day,i,j):\n",
    "\n",
    "        count=0\n",
    "        path = os.getcwd()\n",
    "        \n",
    "        listing = os.listdir(path)\n",
    "    \n",
    "        for infile in listing:\n",
    "            temp=pd.read_excel(infile) #read each file into panda dataframe\n",
    "    \n",
    "            contract_yr_str=infile[-8:-4] # get the contract year\n",
    "    \n",
    "            seasonal_year=int(contract_yr_str)-1 # get the seasonal year to create the index - prev year\n",
    "            seasonal_year=str(seasonal_year) # convert to string\n",
    "\n",
    "            start_date=str(int(seasonal_year)+i)+'-'+start_mth+'-'+start_day # create start date\n",
    "            end_date=str(int(seasonal_year)+j)+'-'+end_mth+'-'+end_day # create end date\n",
    "            \n",
    "            #Join a date dataframe and the temp dataframe together\n",
    "            \n",
    "            dates=pd.date_range(start_date, end_date) # range of dates for date axis\n",
    "            dates=dates.strftime('%Y-%m-%d') #make sure no left out dates\n",
    "            sample_data=np.arange(0,len(dates)) #just sample numbers to create dataframe\n",
    "    \n",
    "            dates_dataframe=pd.DataFrame({'Date':dates,'data':sample_data}) # create dates dataframe\n",
    "            dates_dataframe=dates_dataframe.set_index('Date') # set index as Date to facilitate joining\n",
    "    \n",
    "            temp=temp.set_index('Date') # set index as Date to facilitate joining\n",
    "    \n",
    "            temp=dates_dataframe.join(temp) # join dataframes together on Date\n",
    "               \n",
    "            #filter dates by the start and end date\n",
    "            temp.reset_index(inplace=True)\n",
    "    \n",
    "            temp=temp[temp['Date']>=start_date] # filter for start date\n",
    "\n",
    "            temp=temp[temp['Date']<=end_date] # filter for end date\n",
    "\n",
    "            temp['Date']=pd.to_datetime(temp['Date']).dt.strftime('%m/%d') # putting date in mm/dd form\n",
    "            temp=temp.set_index('Date') # putting date back as index\n",
    "            temp=pd.DataFrame(temp['Settle'],columns=['Settle']) # setting dataframe with date and settle only\n",
    "\n",
    "    \n",
    "            if count==0:\n",
    "                Seasonal_Combi=temp\n",
    "                seasonal_year=str(int(seasonal_year)+1)\n",
    "                Seasonal_Combi.rename(columns={'Settle':seasonal_year},inplace=True)\n",
    "        \n",
    "                count+=1\n",
    "        \n",
    "            else:\n",
    "    \n",
    "                seasonal_year=str(int(seasonal_year)+1)\n",
    "                Seasonal_Combi['Settle']=temp['Settle']\n",
    "                Seasonal_Combi.rename(columns={'Settle':seasonal_year},inplace=True)\n",
    "\n",
    "        #don't need this, i believe\n",
    "        #Seasonal_Combi.drop(columns=['Open','High','Low','Last','Change', 'Volume','Prev. Day Open Interest'],inplace=True)   \n",
    "\n",
    "        \n",
    "        return Seasonal_Combi\n",
    "            \n",
    "            \n",
    "\n",
    "class Mth_2(object):\n",
    "    \n",
    "    def __init__(self):\n",
    "        pass\n",
    "        \n",
    "    def pdt_type2(self):\n",
    "        \n",
    "        product=''\n",
    "        while True:\n",
    "            inst=int(raw_input('Please input the number of the product you want to see the seasonals: 1) Brent 2) Gasoil 3) HO 4) RBOB 5) WTI: '))\n",
    "    \n",
    "            if inst==1:\n",
    "                product='B'\n",
    "                break\n",
    "            elif inst==2:\n",
    "                product='G'\n",
    "                break   \n",
    "            elif inst==3:\n",
    "                product='HO'\n",
    "                break      \n",
    "            elif inst==4:\n",
    "                product='RB'\n",
    "                break       \n",
    "            elif inst==5:\n",
    "                product='CL'\n",
    "                break       \n",
    "            else:\n",
    "                print 'You did not input a correct number. Please try again.'\n",
    "        \n",
    "        return product\n",
    "        \n",
    "    \n",
    "    def mth_no2(self):\n",
    "        month=''\n",
    "        while True:\n",
    "            Mth=int(raw_input('Please input the month of the contract which you wish to evaluate in numbers from 1-12: '))\n",
    "    \n",
    "            if Mth==1:\n",
    "                month='Jan'\n",
    "                break\n",
    "            elif Mth==2:\n",
    "                month='Feb'\n",
    "                break   \n",
    "            elif Mth==3:\n",
    "                month='Mar'\n",
    "                break   \n",
    "            elif Mth==4:\n",
    "                month='Apr'\n",
    "                break   \n",
    "            elif Mth==5:\n",
    "                month='May'\n",
    "                break          \n",
    "            elif Mth==6:\n",
    "                month='Jun'\n",
    "                break   \n",
    "            elif Mth==7:\n",
    "                month='Jul'\n",
    "                break   \n",
    "            elif Mth==8:\n",
    "                month='Aug'\n",
    "                break   \n",
    "            elif Mth==9:\n",
    "                month='Sep'\n",
    "                break   \n",
    "            elif Mth==10:\n",
    "                month='Oct'\n",
    "                break   \n",
    "            elif Mth==11:\n",
    "                month='Nov'\n",
    "                break   \n",
    "            elif Mth==12:\n",
    "                month='Dec'\n",
    "                break \n",
    "            else:\n",
    "                print 'You did not input a correct number. Please try again.'\n",
    "        \n",
    "        return month\n",
    "\n",
    "    def dataframe_create(self, start_mth, start_day, end_mth,end_day,i,j):\n",
    "\n",
    "        count=0\n",
    "        path = os.getcwd()\n",
    "\n",
    "        listing = os.listdir(path)\n",
    "        for infile in listing:\n",
    "            temp=pd.read_excel(infile) #read each file into panda dataframe\n",
    "    \n",
    "            contract_yr_str=infile[-8:-4] # get the contract year\n",
    "    \n",
    "            seasonal_year=int(contract_yr_str)-1 # get the seasonal year to create the index - prev year\n",
    "            seasonal_year=str(seasonal_year) # convert to string\n",
    "     \n",
    "            start_date=str(int(seasonal_year)+i)+'-'+start_mth+'-'+start_day # create start date\n",
    "            end_date=str(int(seasonal_year)+j)+'-'+end_mth+'-'+end_day # create end date\n",
    "            \n",
    "            #Join a date dataframe and the temp dataframe together\n",
    "            \n",
    "            dates=pd.date_range(start_date, end_date) # range of dates for date axis\n",
    "            dates=dates.strftime('%Y-%m-%d') #make sure no left out dates\n",
    "            sample_data=np.arange(0,len(dates)) #just sample numbers to create dataframe\n",
    "    \n",
    "            dates_dataframe=pd.DataFrame({'Date':dates,'data':sample_data}) # create dates dataframe\n",
    "            dates_dataframe=dates_dataframe.set_index('Date') # set index as Date to facilitate joining\n",
    "    \n",
    "            temp=temp.set_index('Date') # set index as Date to facilitate joining\n",
    "    \n",
    "            temp=dates_dataframe.join(temp) # join dataframes together on Date\n",
    "               \n",
    "            #filter dates by the start and end date\n",
    "            temp.reset_index(inplace=True)\n",
    "    \n",
    "            temp=temp[temp['Date']>=start_date] # filter for start date\n",
    "\n",
    "            temp=temp[temp['Date']<=end_date] # filter for end date\n",
    "\n",
    "            temp['Date']=pd.to_datetime(temp['Date']).dt.strftime('%m/%d') # putting date in mm/dd form\n",
    "            temp=temp.set_index('Date') # putting date back as index\n",
    "            temp=pd.DataFrame(temp['Settle'],columns=['Settle']) # setting dataframe with date and settle only\n",
    "    \n",
    "            if count==0:\n",
    "                Seasonal_Combi=temp\n",
    "                seasonal_year=str(int(seasonal_year)+1)\n",
    "                Seasonal_Combi.rename(columns={'Settle':seasonal_year},inplace=True)\n",
    "        \n",
    "                count+=1\n",
    "        \n",
    "            else:\n",
    "    \n",
    "                seasonal_year=str(int(seasonal_year)+1)\n",
    "                Seasonal_Combi['Settle']=temp['Settle']\n",
    "                Seasonal_Combi.rename(columns={'Settle':seasonal_year},inplace=True)\n",
    "\n",
    "        #Seasonal_Combi.drop(columns=['Open','High','Low','Last','Change','Volume','Prev. Day Open Interest'],inplace=True)   \n",
    "\n",
    "        \n",
    "        return Seasonal_Combi\n",
    "    \n",
    "\n",
    "        \n",
    "    \n",
    "import numpy as np\n",
    "import pandas as pd\n",
    "import os\n",
    "import statsmodels.tsa.stattools as ts\n",
    "import matplotlib.pyplot as plt  \n",
    "%matplotlib inline\n",
    "\n",
    "#user specify instrument and contract month\n",
    "\n",
    "product1=''\n",
    "month1=''\n",
    "product2=''\n",
    "month2=''\n",
    "\n",
    "front_mth=Mth_1()\n",
    "product1 = front_mth.pdt_type1()\n",
    "month1=front_mth.mth_no1()\n",
    "\n",
    "back_mth=Mth_2()\n",
    "product2=back_mth.pdt_type2()\n",
    "month2=back_mth.mth_no2()\n",
    "\n",
    "        "
   ]
  },
  {
   "cell_type": "code",
   "execution_count": 2,
   "metadata": {},
   "outputs": [
    {
     "name": "stdout",
     "output_type": "stream",
     "text": [
      "C:\\Users\\boonsin.teo\\Documents\\Quandl\n"
     ]
    }
   ],
   "source": [
    "cd Quandl"
   ]
  },
  {
   "cell_type": "code",
   "execution_count": 3,
   "metadata": {},
   "outputs": [
    {
     "name": "stdout",
     "output_type": "stream",
     "text": [
      "C:\\Users\\boonsin.teo\\Documents\\Quandl\\RB\n"
     ]
    }
   ],
   "source": [
    "cd $product1"
   ]
  },
  {
   "cell_type": "code",
   "execution_count": 4,
   "metadata": {},
   "outputs": [
    {
     "name": "stdout",
     "output_type": "stream",
     "text": [
      "C:\\Users\\boonsin.teo\\Documents\\Quandl\\RB\\Jul\n"
     ]
    }
   ],
   "source": [
    "cd $month1"
   ]
  },
  {
   "cell_type": "code",
   "execution_count": 5,
   "metadata": {},
   "outputs": [
    {
     "name": "stdout",
     "output_type": "stream",
     "text": [
      "Please input start mth of seasonal period in MM format: 01\n",
      "Please input start day of seasonal period in DD format: 01\n",
      "Please input 1 if start mth is the same as contract year and 0 if not: 1\n",
      "Please input end mth of seasonal period in MM format: 05\n",
      "Please input end day of seasonal period in DD format: 25\n",
      "Please input 1 if end mth is the same as contract year and 0 if not: 1\n"
     ]
    }
   ],
   "source": [
    "start_mth=raw_input('Please input start mth of seasonal period in MM format: ')\n",
    "start_day=raw_input('Please input start day of seasonal period in DD format: ')\n",
    "i=int(raw_input('Please input 1 if start mth is the same as contract year and 0 if not: '))\n",
    "            \n",
    "end_mth=raw_input('Please input end mth of seasonal period in MM format: ')\n",
    "end_day=raw_input('Please input end day of seasonal period in DD format: ')\n",
    "            \n",
    "j=int(raw_input('Please input 1 if end mth is the same as contract year and 0 if not: '))\n",
    "\n",
    "\n",
    "front_month=front_mth.dataframe_create(start_mth,start_day,end_mth,end_day,i,j)"
   ]
  },
  {
   "cell_type": "code",
   "execution_count": 6,
   "metadata": {},
   "outputs": [
    {
     "name": "stdout",
     "output_type": "stream",
     "text": [
      "C:\\Users\\boonsin.teo\\Documents\\Quandl\\RB\n"
     ]
    }
   ],
   "source": [
    "cd .."
   ]
  },
  {
   "cell_type": "code",
   "execution_count": 7,
   "metadata": {},
   "outputs": [
    {
     "name": "stdout",
     "output_type": "stream",
     "text": [
      "C:\\Users\\boonsin.teo\\Documents\\Quandl\n"
     ]
    }
   ],
   "source": [
    "cd .."
   ]
  },
  {
   "cell_type": "code",
   "execution_count": 8,
   "metadata": {},
   "outputs": [
    {
     "name": "stdout",
     "output_type": "stream",
     "text": [
      "C:\\Users\\boonsin.teo\\Documents\n"
     ]
    }
   ],
   "source": [
    "cd .."
   ]
  },
  {
   "cell_type": "code",
   "execution_count": 9,
   "metadata": {},
   "outputs": [
    {
     "name": "stdout",
     "output_type": "stream",
     "text": [
      "C:\\Users\\boonsin.teo\\Documents\\Quandl\n"
     ]
    }
   ],
   "source": [
    "cd Quandl"
   ]
  },
  {
   "cell_type": "code",
   "execution_count": 10,
   "metadata": {},
   "outputs": [
    {
     "name": "stdout",
     "output_type": "stream",
     "text": [
      "C:\\Users\\boonsin.teo\\Documents\\Quandl\\HO\n"
     ]
    }
   ],
   "source": [
    "cd $product2"
   ]
  },
  {
   "cell_type": "code",
   "execution_count": 11,
   "metadata": {},
   "outputs": [
    {
     "name": "stdout",
     "output_type": "stream",
     "text": [
      "C:\\Users\\boonsin.teo\\Documents\\Quandl\\HO\\Jul\n"
     ]
    }
   ],
   "source": [
    "cd $month2"
   ]
  },
  {
   "cell_type": "code",
   "execution_count": 12,
   "metadata": {
    "collapsed": true
   },
   "outputs": [],
   "source": [
    "back_month=back_mth.dataframe_create(start_mth, start_day,end_mth,end_day,i,j)"
   ]
  },
  {
   "cell_type": "code",
   "execution_count": 13,
   "metadata": {},
   "outputs": [
    {
     "name": "stdout",
     "output_type": "stream",
     "text": [
      "C:\\Users\\boonsin.teo\\Documents\\Quandl\\HO\n"
     ]
    }
   ],
   "source": [
    "cd .."
   ]
  },
  {
   "cell_type": "code",
   "execution_count": 14,
   "metadata": {},
   "outputs": [
    {
     "name": "stdout",
     "output_type": "stream",
     "text": [
      "C:\\Users\\boonsin.teo\\Documents\\Quandl\n"
     ]
    }
   ],
   "source": [
    "cd .."
   ]
  },
  {
   "cell_type": "code",
   "execution_count": 15,
   "metadata": {},
   "outputs": [
    {
     "name": "stdout",
     "output_type": "stream",
     "text": [
      "C:\\Users\\boonsin.teo\\Documents\n"
     ]
    }
   ],
   "source": [
    "cd .."
   ]
  },
  {
   "cell_type": "code",
   "execution_count": 16,
   "metadata": {},
   "outputs": [
    {
     "data": {
      "text/html": [
       "<div>\n",
       "<style scoped>\n",
       "    .dataframe tbody tr th:only-of-type {\n",
       "        vertical-align: middle;\n",
       "    }\n",
       "\n",
       "    .dataframe tbody tr th {\n",
       "        vertical-align: top;\n",
       "    }\n",
       "\n",
       "    .dataframe thead th {\n",
       "        text-align: right;\n",
       "    }\n",
       "</style>\n",
       "<table border=\"1\" class=\"dataframe\">\n",
       "  <thead>\n",
       "    <tr style=\"text-align: right;\">\n",
       "      <th></th>\n",
       "      <th>1996</th>\n",
       "      <th>1997</th>\n",
       "      <th>1998</th>\n",
       "      <th>1999</th>\n",
       "      <th>2000</th>\n",
       "      <th>2001</th>\n",
       "      <th>2002</th>\n",
       "      <th>2003</th>\n",
       "      <th>2004</th>\n",
       "      <th>2005</th>\n",
       "      <th>...</th>\n",
       "      <th>2009</th>\n",
       "      <th>2010</th>\n",
       "      <th>2011</th>\n",
       "      <th>2012</th>\n",
       "      <th>2013</th>\n",
       "      <th>2014</th>\n",
       "      <th>2015</th>\n",
       "      <th>2016</th>\n",
       "      <th>2017</th>\n",
       "      <th>2018</th>\n",
       "    </tr>\n",
       "    <tr>\n",
       "      <th>Date</th>\n",
       "      <th></th>\n",
       "      <th></th>\n",
       "      <th></th>\n",
       "      <th></th>\n",
       "      <th></th>\n",
       "      <th></th>\n",
       "      <th></th>\n",
       "      <th></th>\n",
       "      <th></th>\n",
       "      <th></th>\n",
       "      <th></th>\n",
       "      <th></th>\n",
       "      <th></th>\n",
       "      <th></th>\n",
       "      <th></th>\n",
       "      <th></th>\n",
       "      <th></th>\n",
       "      <th></th>\n",
       "      <th></th>\n",
       "      <th></th>\n",
       "      <th></th>\n",
       "    </tr>\n",
       "  </thead>\n",
       "  <tbody>\n",
       "    <tr>\n",
       "      <th>01/01</th>\n",
       "      <td>NaN</td>\n",
       "      <td>NaN</td>\n",
       "      <td>NaN</td>\n",
       "      <td>NaN</td>\n",
       "      <td>NaN</td>\n",
       "      <td>NaN</td>\n",
       "      <td>NaN</td>\n",
       "      <td>NaN</td>\n",
       "      <td>NaN</td>\n",
       "      <td>NaN</td>\n",
       "      <td>...</td>\n",
       "      <td>NaN</td>\n",
       "      <td>NaN</td>\n",
       "      <td>NaN</td>\n",
       "      <td>NaN</td>\n",
       "      <td>NaN</td>\n",
       "      <td>NaN</td>\n",
       "      <td>NaN</td>\n",
       "      <td>NaN</td>\n",
       "      <td>NaN</td>\n",
       "      <td>NaN</td>\n",
       "    </tr>\n",
       "    <tr>\n",
       "      <th>01/02</th>\n",
       "      <td>0.5610</td>\n",
       "      <td>0.6766</td>\n",
       "      <td>0.5581</td>\n",
       "      <td>NaN</td>\n",
       "      <td>NaN</td>\n",
       "      <td>0.7926</td>\n",
       "      <td>0.6695</td>\n",
       "      <td>0.8485</td>\n",
       "      <td>NaN</td>\n",
       "      <td>NaN</td>\n",
       "      <td>...</td>\n",
       "      <td>1.3725</td>\n",
       "      <td>NaN</td>\n",
       "      <td>NaN</td>\n",
       "      <td>NaN</td>\n",
       "      <td>2.8408</td>\n",
       "      <td>2.8244</td>\n",
       "      <td>1.7086</td>\n",
       "      <td>NaN</td>\n",
       "      <td>NaN</td>\n",
       "      <td>1.9580</td>\n",
       "    </tr>\n",
       "    <tr>\n",
       "      <th>01/03</th>\n",
       "      <td>0.5605</td>\n",
       "      <td>0.6743</td>\n",
       "      <td>NaN</td>\n",
       "      <td>NaN</td>\n",
       "      <td>NaN</td>\n",
       "      <td>0.8031</td>\n",
       "      <td>0.6610</td>\n",
       "      <td>0.8710</td>\n",
       "      <td>NaN</td>\n",
       "      <td>1.2065</td>\n",
       "      <td>...</td>\n",
       "      <td>NaN</td>\n",
       "      <td>NaN</td>\n",
       "      <td>2.5250</td>\n",
       "      <td>2.8142</td>\n",
       "      <td>2.8422</td>\n",
       "      <td>2.7833</td>\n",
       "      <td>NaN</td>\n",
       "      <td>NaN</td>\n",
       "      <td>1.8139</td>\n",
       "      <td>1.9914</td>\n",
       "    </tr>\n",
       "    <tr>\n",
       "      <th>01/04</th>\n",
       "      <td>0.5650</td>\n",
       "      <td>NaN</td>\n",
       "      <td>NaN</td>\n",
       "      <td>0.4355</td>\n",
       "      <td>0.6750</td>\n",
       "      <td>0.8095</td>\n",
       "      <td>0.6847</td>\n",
       "      <td>NaN</td>\n",
       "      <td>NaN</td>\n",
       "      <td>1.2465</td>\n",
       "      <td>...</td>\n",
       "      <td>NaN</td>\n",
       "      <td>2.2428</td>\n",
       "      <td>2.5111</td>\n",
       "      <td>2.8666</td>\n",
       "      <td>2.8317</td>\n",
       "      <td>NaN</td>\n",
       "      <td>NaN</td>\n",
       "      <td>1.5196</td>\n",
       "      <td>1.8338</td>\n",
       "      <td>1.9952</td>\n",
       "    </tr>\n",
       "    <tr>\n",
       "      <th>01/05</th>\n",
       "      <td>0.5697</td>\n",
       "      <td>NaN</td>\n",
       "      <td>0.5480</td>\n",
       "      <td>0.4265</td>\n",
       "      <td>0.6695</td>\n",
       "      <td>0.8087</td>\n",
       "      <td>NaN</td>\n",
       "      <td>NaN</td>\n",
       "      <td>0.9675</td>\n",
       "      <td>1.2375</td>\n",
       "      <td>...</td>\n",
       "      <td>1.4329</td>\n",
       "      <td>NaN</td>\n",
       "      <td>2.5416</td>\n",
       "      <td>2.8304</td>\n",
       "      <td>NaN</td>\n",
       "      <td>NaN</td>\n",
       "      <td>1.6550</td>\n",
       "      <td>1.4958</td>\n",
       "      <td>1.8304</td>\n",
       "      <td>1.9813</td>\n",
       "    </tr>\n",
       "  </tbody>\n",
       "</table>\n",
       "<p>5 rows × 23 columns</p>\n",
       "</div>"
      ],
      "text/plain": [
       "         1996    1997    1998    1999    2000    2001    2002    2003    2004  \\\n",
       "Date                                                                            \n",
       "01/01     NaN     NaN     NaN     NaN     NaN     NaN     NaN     NaN     NaN   \n",
       "01/02  0.5610  0.6766  0.5581     NaN     NaN  0.7926  0.6695  0.8485     NaN   \n",
       "01/03  0.5605  0.6743     NaN     NaN     NaN  0.8031  0.6610  0.8710     NaN   \n",
       "01/04  0.5650     NaN     NaN  0.4355  0.6750  0.8095  0.6847     NaN     NaN   \n",
       "01/05  0.5697     NaN  0.5480  0.4265  0.6695  0.8087     NaN     NaN  0.9675   \n",
       "\n",
       "         2005   ...      2009    2010    2011    2012    2013    2014    2015  \\\n",
       "Date            ...                                                             \n",
       "01/01     NaN   ...       NaN     NaN     NaN     NaN     NaN     NaN     NaN   \n",
       "01/02     NaN   ...    1.3725     NaN     NaN     NaN  2.8408  2.8244  1.7086   \n",
       "01/03  1.2065   ...       NaN     NaN  2.5250  2.8142  2.8422  2.7833     NaN   \n",
       "01/04  1.2465   ...       NaN  2.2428  2.5111  2.8666  2.8317     NaN     NaN   \n",
       "01/05  1.2375   ...    1.4329     NaN  2.5416  2.8304     NaN     NaN  1.6550   \n",
       "\n",
       "         2016    2017    2018  \n",
       "Date                           \n",
       "01/01     NaN     NaN     NaN  \n",
       "01/02     NaN     NaN  1.9580  \n",
       "01/03     NaN  1.8139  1.9914  \n",
       "01/04  1.5196  1.8338  1.9952  \n",
       "01/05  1.4958  1.8304  1.9813  \n",
       "\n",
       "[5 rows x 23 columns]"
      ]
     },
     "execution_count": 16,
     "metadata": {},
     "output_type": "execute_result"
    }
   ],
   "source": [
    "front_month.head()"
   ]
  },
  {
   "cell_type": "code",
   "execution_count": 17,
   "metadata": {},
   "outputs": [
    {
     "data": {
      "text/html": [
       "<div>\n",
       "<style scoped>\n",
       "    .dataframe tbody tr th:only-of-type {\n",
       "        vertical-align: middle;\n",
       "    }\n",
       "\n",
       "    .dataframe tbody tr th {\n",
       "        vertical-align: top;\n",
       "    }\n",
       "\n",
       "    .dataframe thead th {\n",
       "        text-align: right;\n",
       "    }\n",
       "</style>\n",
       "<table border=\"1\" class=\"dataframe\">\n",
       "  <thead>\n",
       "    <tr style=\"text-align: right;\">\n",
       "      <th></th>\n",
       "      <th>1996</th>\n",
       "      <th>1997</th>\n",
       "      <th>1998</th>\n",
       "      <th>1999</th>\n",
       "      <th>2000</th>\n",
       "      <th>2001</th>\n",
       "      <th>2002</th>\n",
       "      <th>2003</th>\n",
       "      <th>2004</th>\n",
       "      <th>2005</th>\n",
       "      <th>...</th>\n",
       "      <th>2009</th>\n",
       "      <th>2010</th>\n",
       "      <th>2011</th>\n",
       "      <th>2012</th>\n",
       "      <th>2013</th>\n",
       "      <th>2014</th>\n",
       "      <th>2015</th>\n",
       "      <th>2016</th>\n",
       "      <th>2017</th>\n",
       "      <th>2018</th>\n",
       "    </tr>\n",
       "    <tr>\n",
       "      <th>Date</th>\n",
       "      <th></th>\n",
       "      <th></th>\n",
       "      <th></th>\n",
       "      <th></th>\n",
       "      <th></th>\n",
       "      <th></th>\n",
       "      <th></th>\n",
       "      <th></th>\n",
       "      <th></th>\n",
       "      <th></th>\n",
       "      <th></th>\n",
       "      <th></th>\n",
       "      <th></th>\n",
       "      <th></th>\n",
       "      <th></th>\n",
       "      <th></th>\n",
       "      <th></th>\n",
       "      <th></th>\n",
       "      <th></th>\n",
       "      <th></th>\n",
       "      <th></th>\n",
       "    </tr>\n",
       "  </thead>\n",
       "  <tbody>\n",
       "    <tr>\n",
       "      <th>01/01</th>\n",
       "      <td>NaN</td>\n",
       "      <td>NaN</td>\n",
       "      <td>NaN</td>\n",
       "      <td>NaN</td>\n",
       "      <td>NaN</td>\n",
       "      <td>NaN</td>\n",
       "      <td>NaN</td>\n",
       "      <td>NaN</td>\n",
       "      <td>NaN</td>\n",
       "      <td>NaN</td>\n",
       "      <td>...</td>\n",
       "      <td>NaN</td>\n",
       "      <td>NaN</td>\n",
       "      <td>NaN</td>\n",
       "      <td>NaN</td>\n",
       "      <td>NaN</td>\n",
       "      <td>NaN</td>\n",
       "      <td>NaN</td>\n",
       "      <td>NaN</td>\n",
       "      <td>NaN</td>\n",
       "      <td>NaN</td>\n",
       "    </tr>\n",
       "    <tr>\n",
       "      <th>01/02</th>\n",
       "      <td>0.4959</td>\n",
       "      <td>0.5977</td>\n",
       "      <td>0.5002</td>\n",
       "      <td>NaN</td>\n",
       "      <td>NaN</td>\n",
       "      <td>0.7014</td>\n",
       "      <td>0.5776</td>\n",
       "      <td>0.7145</td>\n",
       "      <td>NaN</td>\n",
       "      <td>NaN</td>\n",
       "      <td>...</td>\n",
       "      <td>1.5908</td>\n",
       "      <td>NaN</td>\n",
       "      <td>NaN</td>\n",
       "      <td>NaN</td>\n",
       "      <td>3.0195</td>\n",
       "      <td>2.9392</td>\n",
       "      <td>1.8052</td>\n",
       "      <td>NaN</td>\n",
       "      <td>NaN</td>\n",
       "      <td>1.9615</td>\n",
       "    </tr>\n",
       "    <tr>\n",
       "      <th>01/03</th>\n",
       "      <td>0.4916</td>\n",
       "      <td>0.5948</td>\n",
       "      <td>NaN</td>\n",
       "      <td>NaN</td>\n",
       "      <td>NaN</td>\n",
       "      <td>0.7091</td>\n",
       "      <td>0.5624</td>\n",
       "      <td>0.7224</td>\n",
       "      <td>NaN</td>\n",
       "      <td>1.1020</td>\n",
       "      <td>...</td>\n",
       "      <td>NaN</td>\n",
       "      <td>NaN</td>\n",
       "      <td>2.5644</td>\n",
       "      <td>2.9607</td>\n",
       "      <td>3.0018</td>\n",
       "      <td>2.8967</td>\n",
       "      <td>NaN</td>\n",
       "      <td>NaN</td>\n",
       "      <td>1.7214</td>\n",
       "      <td>1.9930</td>\n",
       "    </tr>\n",
       "    <tr>\n",
       "      <th>01/04</th>\n",
       "      <td>0.4943</td>\n",
       "      <td>NaN</td>\n",
       "      <td>NaN</td>\n",
       "      <td>0.3739</td>\n",
       "      <td>0.5728</td>\n",
       "      <td>0.7077</td>\n",
       "      <td>0.5885</td>\n",
       "      <td>NaN</td>\n",
       "      <td>NaN</td>\n",
       "      <td>1.1423</td>\n",
       "      <td>...</td>\n",
       "      <td>NaN</td>\n",
       "      <td>2.2106</td>\n",
       "      <td>2.5334</td>\n",
       "      <td>3.0224</td>\n",
       "      <td>2.9825</td>\n",
       "      <td>NaN</td>\n",
       "      <td>NaN</td>\n",
       "      <td>1.2366</td>\n",
       "      <td>1.7389</td>\n",
       "      <td>1.9919</td>\n",
       "    </tr>\n",
       "    <tr>\n",
       "      <th>01/05</th>\n",
       "      <td>0.4989</td>\n",
       "      <td>NaN</td>\n",
       "      <td>0.4898</td>\n",
       "      <td>0.3660</td>\n",
       "      <td>0.5647</td>\n",
       "      <td>0.7022</td>\n",
       "      <td>NaN</td>\n",
       "      <td>NaN</td>\n",
       "      <td>0.8085</td>\n",
       "      <td>1.1293</td>\n",
       "      <td>...</td>\n",
       "      <td>1.6733</td>\n",
       "      <td>2.2175</td>\n",
       "      <td>2.5660</td>\n",
       "      <td>2.9970</td>\n",
       "      <td>NaN</td>\n",
       "      <td>NaN</td>\n",
       "      <td>1.7476</td>\n",
       "      <td>1.2227</td>\n",
       "      <td>1.7404</td>\n",
       "      <td>1.9811</td>\n",
       "    </tr>\n",
       "  </tbody>\n",
       "</table>\n",
       "<p>5 rows × 23 columns</p>\n",
       "</div>"
      ],
      "text/plain": [
       "         1996    1997    1998    1999    2000    2001    2002    2003    2004  \\\n",
       "Date                                                                            \n",
       "01/01     NaN     NaN     NaN     NaN     NaN     NaN     NaN     NaN     NaN   \n",
       "01/02  0.4959  0.5977  0.5002     NaN     NaN  0.7014  0.5776  0.7145     NaN   \n",
       "01/03  0.4916  0.5948     NaN     NaN     NaN  0.7091  0.5624  0.7224     NaN   \n",
       "01/04  0.4943     NaN     NaN  0.3739  0.5728  0.7077  0.5885     NaN     NaN   \n",
       "01/05  0.4989     NaN  0.4898  0.3660  0.5647  0.7022     NaN     NaN  0.8085   \n",
       "\n",
       "         2005   ...      2009    2010    2011    2012    2013    2014    2015  \\\n",
       "Date            ...                                                             \n",
       "01/01     NaN   ...       NaN     NaN     NaN     NaN     NaN     NaN     NaN   \n",
       "01/02     NaN   ...    1.5908     NaN     NaN     NaN  3.0195  2.9392  1.8052   \n",
       "01/03  1.1020   ...       NaN     NaN  2.5644  2.9607  3.0018  2.8967     NaN   \n",
       "01/04  1.1423   ...       NaN  2.2106  2.5334  3.0224  2.9825     NaN     NaN   \n",
       "01/05  1.1293   ...    1.6733  2.2175  2.5660  2.9970     NaN     NaN  1.7476   \n",
       "\n",
       "         2016    2017    2018  \n",
       "Date                           \n",
       "01/01     NaN     NaN     NaN  \n",
       "01/02     NaN     NaN  1.9615  \n",
       "01/03     NaN  1.7214  1.9930  \n",
       "01/04  1.2366  1.7389  1.9919  \n",
       "01/05  1.2227  1.7404  1.9811  \n",
       "\n",
       "[5 rows x 23 columns]"
      ]
     },
     "execution_count": 17,
     "metadata": {},
     "output_type": "execute_result"
    }
   ],
   "source": [
    "back_month.head()"
   ]
  },
  {
   "cell_type": "code",
   "execution_count": 18,
   "metadata": {},
   "outputs": [
    {
     "name": "stdout",
     "output_type": "stream",
     "text": [
      "Please indicate if this is a 1) Crack or 2) Spread 3) HOGO Sprd - please input integer 1,2, or 3: 2\n"
     ]
    }
   ],
   "source": [
    "Spread_Combi=create_sprd(front_month, back_month)"
   ]
  },
  {
   "cell_type": "code",
   "execution_count": 19,
   "metadata": {
    "collapsed": true
   },
   "outputs": [],
   "source": [
    "Spread_Combi.dropna(axis=0,how='all',inplace=True) # drop rows with all NAs"
   ]
  },
  {
   "cell_type": "code",
   "execution_count": 20,
   "metadata": {
    "collapsed": true
   },
   "outputs": [],
   "source": [
    "Spread_Combi.dropna(axis=1,how='all',inplace=True)# drop columns with all NAs"
   ]
  },
  {
   "cell_type": "code",
   "execution_count": null,
   "metadata": {
    "collapsed": true
   },
   "outputs": [],
   "source": []
  },
  {
   "cell_type": "code",
   "execution_count": null,
   "metadata": {
    "collapsed": true
   },
   "outputs": [],
   "source": []
  },
  {
   "cell_type": "code",
   "execution_count": 21,
   "metadata": {},
   "outputs": [
    {
     "name": "stdout",
     "output_type": "stream",
     "text": [
      "Please input the lookback period: 20\n"
     ]
    }
   ],
   "source": [
    "lookback=int(raw_input('Please input the lookback period: '))\n",
    "df_ma=Spread_Combi\n",
    "df_std=Spread_Combi\n",
    "\n"
   ]
  },
  {
   "cell_type": "code",
   "execution_count": null,
   "metadata": {
    "collapsed": true
   },
   "outputs": [],
   "source": []
  },
  {
   "cell_type": "code",
   "execution_count": null,
   "metadata": {
    "collapsed": true
   },
   "outputs": [],
   "source": []
  },
  {
   "cell_type": "code",
   "execution_count": 22,
   "metadata": {},
   "outputs": [
    {
     "name": "stderr",
     "output_type": "stream",
     "text": [
      "C:\\Anaconda\\lib\\site-packages\\ipykernel_launcher.py:1: FutureWarning: pd.rolling_mean is deprecated for DataFrame and will be removed in a future version, replace with \n",
      "\tDataFrame.rolling(window=20,center=False).mean()\n",
      "  \"\"\"Entry point for launching an IPython kernel.\n",
      "C:\\Anaconda\\lib\\site-packages\\ipykernel_launcher.py:2: FutureWarning: pd.rolling_std is deprecated for DataFrame and will be removed in a future version, replace with \n",
      "\tDataFrame.rolling(window=20,center=False).std()\n",
      "  \n"
     ]
    }
   ],
   "source": [
    "df_ma=pd.rolling_mean(Spread_Combi,lookback)\n",
    "df_std=pd.rolling_std(Spread_Combi,lookback)"
   ]
  },
  {
   "cell_type": "code",
   "execution_count": 23,
   "metadata": {
    "collapsed": true
   },
   "outputs": [],
   "source": [
    "z_score=(Spread_Combi-df_ma)/df_std"
   ]
  },
  {
   "cell_type": "code",
   "execution_count": 24,
   "metadata": {},
   "outputs": [
    {
     "name": "stdout",
     "output_type": "stream",
     "text": [
      "Please input the z score for trade entry as a positive float number: 2.1\n",
      "Please input the z score for trade exit as a positive float number: 1\n"
     ]
    }
   ],
   "source": [
    "z_score_entry=float(raw_input('Please input the z score for trade entry as a positive float number: '))\n",
    "z_score_exit=float(raw_input('Please input the z score for trade exit as a positive float number: '))\n",
    "\n",
    "df_long_entry=z_score <= -z_score_entry\n",
    "df_long_exit=z_score>=-z_score_exit\n",
    "df_short_entry=z_score>=z_score_entry\n",
    "df_short_exit=z_score<=z_score_exit"
   ]
  },
  {
   "cell_type": "code",
   "execution_count": 25,
   "metadata": {
    "collapsed": true
   },
   "outputs": [],
   "source": [
    "rows=Spread_Combi.shape[0]\n",
    "cols=Spread_Combi.shape[1]"
   ]
  },
  {
   "cell_type": "code",
   "execution_count": 26,
   "metadata": {
    "collapsed": true
   },
   "outputs": [],
   "source": [
    "df_long_positions=pd.DataFrame(np.nan,index=range(0,rows),columns=range(0,cols))\n",
    "df_short_positions=pd.DataFrame(np.nan,index=range(0,rows),columns=range(0,cols))"
   ]
  },
  {
   "cell_type": "code",
   "execution_count": 27,
   "metadata": {
    "collapsed": true
   },
   "outputs": [],
   "source": [
    "df_long_entry[df_long_entry==True]=2\n",
    "df_long_exit[df_long_exit==True]=-1\n",
    "df_long_positions=df_long_entry+df_long_exit\n",
    "\n",
    "df_long_positions[df_long_positions==0]=np.nan\n",
    "df_long_positions[df_long_positions==-1]=0\n",
    "df_long_positions[df_long_positions==2]=1\n",
    "\n",
    "df_long_positions=df_long_positions.fillna(method='ffill')"
   ]
  },
  {
   "cell_type": "code",
   "execution_count": 28,
   "metadata": {},
   "outputs": [
    {
     "name": "stderr",
     "output_type": "stream",
     "text": [
      "C:\\Anaconda\\lib\\site-packages\\pandas\\core\\computation\\expressions.py:179: UserWarning: evaluating in Python space because the '+' operator is not supported by numexpr for the bool dtype, use '|' instead\n",
      "  .format(op=op_str, alt_op=unsupported[op_str]))\n"
     ]
    }
   ],
   "source": [
    "df_short_entry[df_short_entry==True]=-2\n",
    "df_short_exit[df_short_exit==True]=1\n",
    "df_short_positions=df_short_entry+df_short_exit\n",
    "\n",
    "df_short_positions[df_short_positions==0]=np.nan\n",
    "df_short_positions[df_short_positions==1]=0\n",
    "df_short_positions[df_short_positions==-2]=-1\n",
    "\n",
    "df_short_positions=df_short_positions.fillna(method='ffill')"
   ]
  },
  {
   "cell_type": "code",
   "execution_count": 29,
   "metadata": {
    "collapsed": true
   },
   "outputs": [],
   "source": [
    "df_positions=df_long_positions+df_short_positions"
   ]
  },
  {
   "cell_type": "code",
   "execution_count": 30,
   "metadata": {
    "collapsed": true
   },
   "outputs": [],
   "source": [
    "zf=z_factor(product1, product2)"
   ]
  },
  {
   "cell_type": "code",
   "execution_count": 31,
   "metadata": {
    "collapsed": true
   },
   "outputs": [],
   "source": [
    "df_pnl=df_positions.shift(1)*(Spread_Combi*zf[0]-Spread_Combi.shift(1)*zf[1])*zf[2]"
   ]
  },
  {
   "cell_type": "code",
   "execution_count": 32,
   "metadata": {
    "collapsed": true
   },
   "outputs": [],
   "source": [
    "df_cumpnl=df_pnl.cumsum()"
   ]
  },
  {
   "cell_type": "code",
   "execution_count": 33,
   "metadata": {},
   "outputs": [
    {
     "data": {
      "text/plain": [
       "1996    -134.4\n",
       "1997    1083.6\n",
       "1998     814.8\n",
       "1999    1167.6\n",
       "2000    -932.4\n",
       "2001     172.2\n",
       "2002     386.4\n",
       "2003    1659.0\n",
       "2004    1247.4\n",
       "2005    2352.0\n",
       "2006   -3015.6\n",
       "2007   -2704.8\n",
       "2008    1045.8\n",
       "2009   -1890.0\n",
       "2010    1108.8\n",
       "2011    1113.0\n",
       "2012   -3246.6\n",
       "2013    4998.0\n",
       "2014    -365.4\n",
       "2015     903.0\n",
       "2016     474.6\n",
       "2017    1944.6\n",
       "2018    2410.8\n",
       "dtype: float64"
      ]
     },
     "execution_count": 33,
     "metadata": {},
     "output_type": "execute_result"
    }
   ],
   "source": [
    "final_pnl=df_cumpnl.tail(1)\n",
    "final_pnl.sum()"
   ]
  },
  {
   "cell_type": "code",
   "execution_count": 34,
   "metadata": {
    "collapsed": true
   },
   "outputs": [],
   "source": [
    "win_percent=float(float((final_pnl[final_pnl>=0].count().sum()))/float((final_pnl.count().sum())))*100"
   ]
  },
  {
   "cell_type": "code",
   "execution_count": 35,
   "metadata": {},
   "outputs": [
    {
     "name": "stdout",
     "output_type": "stream",
     "text": [
      "The winning percentage is 69.57 percent.\n",
      "The sample size is 23.\n"
     ]
    }
   ],
   "source": [
    "print 'The winning percentage is %.2f percent.' %win_percent\n",
    "print 'The sample size is %.0f.' %final_pnl.count().sum()"
   ]
  },
  {
   "cell_type": "code",
   "execution_count": 36,
   "metadata": {},
   "outputs": [
    {
     "name": "stdout",
     "output_type": "stream",
     "text": [
      "Total pnl over 23 years is $10592.40.\n"
     ]
    }
   ],
   "source": [
    "print 'Total pnl over 23 years is $%.2f.'%final_pnl.sum().sum()"
   ]
  },
  {
   "cell_type": "code",
   "execution_count": 37,
   "metadata": {
    "scrolled": true
   },
   "outputs": [
    {
     "name": "stdout",
     "output_type": "stream",
     "text": [
      "Please input the date to check in mm/dd format: 05/11\n"
     ]
    }
   ],
   "source": [
    "z_score_date=raw_input(\"Please input the date to check in mm/dd format: \")"
   ]
  },
  {
   "cell_type": "code",
   "execution_count": 38,
   "metadata": {},
   "outputs": [
    {
     "name": "stdout",
     "output_type": "stream",
     "text": [
      "Please input the year of the date in which you are in: 2018\n"
     ]
    }
   ],
   "source": [
    "z_score_year=raw_input('Please input the year of the date in which you are in: ')"
   ]
  },
  {
   "cell_type": "code",
   "execution_count": 39,
   "metadata": {},
   "outputs": [
    {
     "name": "stdout",
     "output_type": "stream",
     "text": [
      "No entry signal. Please check for exit signal if already in the trade.\n",
      "The z-score is -0.52.\n"
     ]
    }
   ],
   "source": [
    "if z_score[z_score_year].loc[z_score_date]<=-z_score_entry or z_score[z_score_year].loc[z_score_date]>=z_score_entry:\n",
    "    print \"Trade Entry Check!\"\n",
    "    print 'The z-score is %.2f.' %z_score[z_score_year].loc[z_score_date] \n",
    "else:\n",
    "    print 'No entry signal. Please check for exit signal if already in the trade.'\n",
    "    print 'The z-score is %.2f.' %z_score[z_score_year].loc[z_score_date] "
   ]
  },
  {
   "cell_type": "code",
   "execution_count": 40,
   "metadata": {},
   "outputs": [
    {
     "data": {
      "text/plain": [
       "<matplotlib.axes._subplots.AxesSubplot at 0xa6d10d0>"
      ]
     },
     "execution_count": 40,
     "metadata": {},
     "output_type": "execute_result"
    },
    {
     "data": {
      "image/png": "[encoded data removed]",
      "text/plain": [
       "<matplotlib.figure.Figure at 0xae4fc30>"
      ]
     },
     "metadata": {},
     "output_type": "display_data"
    }
   ],
   "source": [
    "#to plot equity curve\n",
    "df_cumpnl['2014'].plot()"
   ]
  },
  {
   "cell_type": "code",
   "execution_count": 41,
   "metadata": {},
   "outputs": [
    {
     "data": {
      "text/plain": [
       "1996    -995.4\n",
       "1997      46.2\n",
       "1998      58.8\n",
       "1999       0.0\n",
       "2000   -2646.0\n",
       "2001    -840.0\n",
       "2002    -756.0\n",
       "2003     -21.0\n",
       "2004    -268.8\n",
       "2005       0.0\n",
       "2006   -6291.6\n",
       "2007   -3465.0\n",
       "2008   -7001.4\n",
       "2009   -3893.4\n",
       "2010    -231.0\n",
       "2011   -3502.8\n",
       "2012   -4641.0\n",
       "2013   -1306.2\n",
       "2014    -676.2\n",
       "2015    -550.2\n",
       "2016   -3439.8\n",
       "2017       0.0\n",
       "2018       0.0\n",
       "dtype: float64"
      ]
     },
     "execution_count": 41,
     "metadata": {},
     "output_type": "execute_result"
    }
   ],
   "source": [
    "df_cumpnl.min()"
   ]
  },
  {
   "cell_type": "code",
   "execution_count": 42,
   "metadata": {
    "collapsed": true
   },
   "outputs": [],
   "source": [
    "#adf calculation\n",
    "adf=final_pnl"
   ]
  },
  {
   "cell_type": "code",
   "execution_count": 43,
   "metadata": {},
   "outputs": [
    {
     "name": "stderr",
     "output_type": "stream",
     "text": [
      "C:\\Anaconda\\lib\\site-packages\\pandas\\core\\indexing.py:621: SettingWithCopyWarning: \n",
      "A value is trying to be set on a copy of a slice from a DataFrame.\n",
      "Try using .loc[row_indexer,col_indexer] = value instead\n",
      "\n",
      "See the caveats in the documentation: http://pandas.pydata.org/pandas-docs/stable/indexing.html#indexing-view-versus-copy\n",
      "  self.obj[item_labels[indexer[info_axis]]] = value\n"
     ]
    }
   ],
   "source": [
    "i=0\n",
    "while i<cols:\n",
    "    adf.iloc[:,i]=float(ts.adfuller(Spread_Combi.iloc[:,i])[0])\n",
    "    i+=1"
   ]
  },
  {
   "cell_type": "code",
   "execution_count": 44,
   "metadata": {},
   "outputs": [
    {
     "data": {
      "text/plain": [
       "1996   -1.209200\n",
       "1997   -3.145482\n",
       "1998   -0.583693\n",
       "1999   -1.455654\n",
       "2000   -0.663551\n",
       "2001   -1.813369\n",
       "2002   -2.451235\n",
       "2003   -1.807803\n",
       "2004    0.089389\n",
       "2005   -1.323406\n",
       "2006   -1.264588\n",
       "2007    0.477947\n",
       "2008   -0.025711\n",
       "2009   -0.489925\n",
       "2010   -1.854588\n",
       "2011   -1.609256\n",
       "2012   -1.680452\n",
       "2013   -2.388802\n",
       "2014   -0.040983\n",
       "2015   -1.556784\n",
       "2016   -2.144158\n",
       "2017   -1.874560\n",
       "2018   -0.780366\n",
       "dtype: float64"
      ]
     },
     "execution_count": 44,
     "metadata": {},
     "output_type": "execute_result"
    }
   ],
   "source": [
    "adf.sum()"
   ]
  },
  {
   "cell_type": "code",
   "execution_count": 45,
   "metadata": {},
   "outputs": [
    {
     "data": {
      "text/plain": [
       "Date\n",
       "01/01    0.1093\n",
       "01/02    0.1093\n",
       "01/03    0.1054\n",
       "01/04    0.0964\n",
       "01/05    0.0853\n",
       "01/06    0.0853\n",
       "01/07    0.0853\n",
       "01/08    0.0785\n",
       "01/09    0.0845\n",
       "01/10    0.0692\n",
       "01/11    0.0721\n",
       "01/12    0.0773\n",
       "01/13    0.0773\n",
       "01/14    0.0773\n",
       "01/15    0.0773\n",
       "01/16    0.0592\n",
       "01/17    0.0570\n",
       "01/18    0.0598\n",
       "01/19    0.0611\n",
       "01/20    0.0611\n",
       "01/21    0.0611\n",
       "01/22    0.0552\n",
       "01/23    0.0552\n",
       "01/24    0.0698\n",
       "01/25    0.0936\n",
       "01/26    0.0726\n",
       "01/27    0.0726\n",
       "01/28    0.0726\n",
       "01/29    0.0758\n",
       "01/30    0.0682\n",
       "          ...  \n",
       "04/26    0.2586\n",
       "04/27    0.2851\n",
       "04/28    0.2851\n",
       "04/29    0.2851\n",
       "04/30    0.3004\n",
       "05/01    0.2992\n",
       "05/02    0.3149\n",
       "05/03    0.3251\n",
       "05/04    0.3200\n",
       "05/05    0.3200\n",
       "05/06    0.3200\n",
       "05/07    0.3222\n",
       "05/08    0.3070\n",
       "05/09    0.3369\n",
       "05/10    0.3656\n",
       "05/11    0.3723\n",
       "05/12    0.3723\n",
       "05/13    0.3723\n",
       "05/14    0.3657\n",
       "05/15    0.3516\n",
       "05/16    0.3885\n",
       "05/17    0.3986\n",
       "05/18    0.3900\n",
       "05/19    0.3900\n",
       "05/20    0.3900\n",
       "05/21    0.3559\n",
       "05/22    0.3224\n",
       "05/23    0.2897\n",
       "05/24    0.3339\n",
       "05/25    0.3684\n",
       "Name: 2007, Length: 146, dtype: float64"
      ]
     },
     "execution_count": 45,
     "metadata": {},
     "output_type": "execute_result"
    }
   ],
   "source": [
    "Spread_Combi['2007']"
   ]
  },
  {
   "cell_type": "code",
   "execution_count": null,
   "metadata": {
    "collapsed": true
   },
   "outputs": [],
   "source": []
  },
  {
   "cell_type": "code",
   "execution_count": null,
   "metadata": {
    "collapsed": true
   },
   "outputs": [],
   "source": []
  },
  {
   "cell_type": "code",
   "execution_count": null,
   "metadata": {
    "collapsed": true
   },
   "outputs": [],
   "source": []
  }
 ],
 "metadata": {
  "kernelspec": {
   "display_name": "Python 2",
   "language": "python",
   "name": "python2"
  },
  "language_info": {
   "codemirror_mode": {
    "name": "ipython",
    "version": 2
   },
   "file_extension": ".py",
   "mimetype": "text/x-python",
   "name": "python",
   "nbconvert_exporter": "python",
   "pygments_lexer": "ipython2",
   "version": "2.7.13"
  }
 },
 "nbformat": 4,
 "nbformat_minor": 2
}
