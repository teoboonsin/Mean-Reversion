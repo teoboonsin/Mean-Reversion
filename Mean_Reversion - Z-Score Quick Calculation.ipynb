{
 "cells": [
  {
   "cell_type": "code",
   "execution_count": 94,
   "metadata": {},
   "outputs": [],
   "source": [
    "\n",
    "def apply_factor(product1,product2):\n",
    "    z=1\n",
    "    y=1\n",
    "\n",
    "    if product1=='RB' and product2 =='RB':\n",
    "        z=42\n",
    "        y=42\n",
    "    elif product1=='HO' and product2 =='HO':\n",
    "        z=42\n",
    "        y=42\n",
    "    elif product1=='RB' and product2 =='HO':\n",
    "        z=42\n",
    "        y=42\n",
    "    elif product1=='HO' and product2 =='RB':\n",
    "        z=42\n",
    "        y=42\n",
    "    elif product1=='HO' and product2 =='CL':\n",
    "        z=42\n",
    "        y=1  \n",
    "    elif product1=='RB' and product2 =='CL':\n",
    "        z=42\n",
    "        y=1          \n",
    "    elif product1=='CL' and product2 =='B':\n",
    "        z=1\n",
    "        y=1       \n",
    "    elif product1=='G' and product2 =='G':\n",
    "        z=(1/7.45)\n",
    "        y=(1/7.45)\n",
    "    elif product1=='G' and product2 =='B':\n",
    "        z=(1/7.45)\n",
    "    elif product1==\"HO\" and product2=='G':\n",
    "        z=42\n",
    "        y=(1/7.45)\n",
    "    \n",
    "    else:\n",
    "        pass\n",
    "\n",
    "    return z,y\n",
    "\n",
    "\n",
    "\n",
    "\n",
    "class Mth_1(object):\n",
    "    \n",
    "    def __init__(self):\n",
    "        pass\n",
    "        \n",
    "    def pdt_type1(self):\n",
    "        \n",
    "        product=''\n",
    "        while True:\n",
    "            inst=int(raw_input('Please input the number of the product you want to see the seasonals: 1) Brent 2) Gasoil 3) HO 4) RBOB 5) WTI: '))\n",
    "    \n",
    "            if inst==1:\n",
    "                product='B'\n",
    "                break\n",
    "            elif inst==2:\n",
    "                product='G'\n",
    "                break   \n",
    "            elif inst==3:\n",
    "                product='HO'\n",
    "                break      \n",
    "            elif inst==4:\n",
    "                product='RB'\n",
    "                break       \n",
    "            elif inst==5:\n",
    "                product='CL'\n",
    "                break       \n",
    "            else:\n",
    "                print 'You did not input a correct number. Please try again.'\n",
    "        \n",
    "        return product\n",
    "    \n",
    "    def mth_no1(self):\n",
    "\n",
    "        month=int(raw_input('Please input the start month of the contract which you wish to evaluate in numbers from 1-12: '))\n",
    "        Mth_End=int(raw_input('Please input the end month of the contract which you wish to evaluate in numbers from 1-12:'))\n",
    "        count=Mth_End-month\n",
    "        \n",
    "        return month, count      \n",
    "\n",
    "  \n",
    "    def mth_def(self, month,count):\n",
    "             \n",
    "        mth=''    \n",
    "            \n",
    "        if month+count==1:\n",
    "            mth='Jan'\n",
    "\n",
    "        elif month+count==2:\n",
    "            mth='Feb'\n",
    " \n",
    "        elif month+count==3:\n",
    "            mth='Mar'\n",
    "\n",
    "        elif month+count==4:\n",
    "            mth='Apr'\n",
    " \n",
    "        elif month+count==5:\n",
    "            mth='May'\n",
    "    \n",
    "        elif month+count==6:\n",
    "            mth='Jun'\n",
    "\n",
    "        elif month+count==7:\n",
    "            mth='Jul'\n",
    "\n",
    "        elif month+count==8:\n",
    "            mth='Aug'\n",
    "\n",
    "        elif month+count==9:\n",
    "            mth='Sep'\n",
    "\n",
    "        elif month+count==10:\n",
    "            mth='Oct'\n",
    "        \n",
    "        elif month+count==11:\n",
    "            mth='Nov'\n",
    " \n",
    "        elif month+count==12:\n",
    "            mth='Dec'\n",
    "        \n",
    "        else:\n",
    "            print'The number inputted is not correct and will cause an error'\n",
    "\n",
    "        return mth\n",
    "\n",
    "\n",
    "class Mth_2(object):\n",
    "    \n",
    "    def __init__(self):\n",
    "        pass\n",
    "        \n",
    "    def pdt_type2(self):\n",
    "        \n",
    "        product=''\n",
    "        while True:\n",
    "            inst=int(raw_input('Please input the number of the product you want to see the seasonals: 1) Brent 2) Gasoil 3) HO 4) RBOB 5) WTI: '))\n",
    "    \n",
    "            if inst==1:\n",
    "                product='B'\n",
    "                break\n",
    "            elif inst==2:\n",
    "                product='G'\n",
    "                break   \n",
    "            elif inst==3:\n",
    "                product='HO'\n",
    "                break      \n",
    "            elif inst==4:\n",
    "                product='RB'\n",
    "                break       \n",
    "            elif inst==5:\n",
    "                product='CL'\n",
    "                break       \n",
    "            else:\n",
    "                print 'You did not input a correct number. Please try again.'\n",
    "        \n",
    "        return product\n",
    "        \n",
    "    \n",
    "    def mth_no2(self):\n",
    "\n",
    "        month=int(raw_input('Please input the month of the contract which you wish to evaluate in numbers from 1-12: '))\n",
    "        #Mth_End=int(raw_input('Please input the end month of the contract which you wish to evaluate in numbers from 1-12:'))\n",
    "        #count=Mth_End-month\n",
    "\n",
    "        return month   \n",
    "\n",
    "    def mth_def(self,month,count):\n",
    "        mth=''    \n",
    "        if month+count==1:\n",
    "            mth='Jan'\n",
    "\n",
    "        elif month+count==2:\n",
    "            mth='Feb'\n",
    "            \n",
    "        elif month+count==3:\n",
    "            mth='Mar'\n",
    " \n",
    "        elif month+count==4:\n",
    "            mth='Apr'\n",
    "\n",
    "        elif month+count==5:\n",
    "            mth='May'\n",
    "   \n",
    "        elif month+count==6:\n",
    "            mth='Jun'\n",
    "\n",
    "        elif month+count==7:\n",
    "            mth='Jul'\n",
    "\n",
    "        elif month+count==8:\n",
    "            mth='Aug'\n",
    "\n",
    "        elif month+count==9:\n",
    "            mth='Sep'\n",
    "\n",
    "        elif month+count==10:\n",
    "            mth='Oct'\n",
    "\n",
    "        elif month+count==11:\n",
    "            mth='Nov'\n",
    "\n",
    "        elif month+count==12:\n",
    "            mth='Dec'\n",
    "\n",
    "        else:\n",
    "            print 'The number inputted is not correct and will cause an error'    \n",
    "        \n",
    "        return mth\n",
    "    "
   ]
  },
  {
   "cell_type": "code",
   "execution_count": 95,
   "metadata": {},
   "outputs": [],
   "source": [
    "import numpy as np\n",
    "import pandas as pd\n",
    "import os\n",
    "import statsmodels.tsa.stattools as ts\n",
    "import statsmodels.api as sm\n",
    "import matplotlib.pyplot as plt  \n",
    "%matplotlib inline"
   ]
  },
  {
   "cell_type": "code",
   "execution_count": null,
   "metadata": {
    "collapsed": true
   },
   "outputs": [],
   "source": []
  },
  {
   "cell_type": "code",
   "execution_count": 96,
   "metadata": {},
   "outputs": [
    {
     "name": "stdout",
     "output_type": "stream",
     "text": [
      "Please input the number of the product you want to see the seasonals: 1) Brent 2) Gasoil 3) HO 4) RBOB 5) WTI: 3\n",
      "Please input the start month of the contract which you wish to evaluate in numbers from 1-12: 8\n",
      "Please input the end month of the contract which you wish to evaluate in numbers from 1-12:11\n",
      "Please specify the contract year: 2018\n",
      "Please input the number of the product you want to see the seasonals: 1) Brent 2) Gasoil 3) HO 4) RBOB 5) WTI: 2\n",
      "Please input the month of the contract which you wish to evaluate in numbers from 1-12: 8\n",
      "Please specify the contract year: 2018\n",
      "Please input start mth of seasonal period in MM format: 01\n",
      "Please input start day of seasonal period in DD format: 01\n",
      "Please input end mth of seasonal period in MM format: 06\n",
      "Please input end day of seasonal period in DD format: 25\n",
      "Please input the lookback period: 20\n",
      "Please input the z score for trade entry as a positive float number: 2\n",
      "Please input the z score for trade exit as a positive float number: 0\n",
      "Please input the date to check in mm/dd format: 05/15\n",
      "C:\\Users\\boonsin.teo\\Documents\\Quandl\n",
      "C:\\Users\\boonsin.teo\\Documents\\Quandl\\HO\n",
      "C:\\Users\\boonsin.teo\\Documents\\Quandl\\HO\\Aug\n",
      "C:\\Users\\boonsin.teo\\Documents\\Quandl\\HO\n",
      "C:\\Users\\boonsin.teo\\Documents\\Quandl\n",
      "C:\\Users\\boonsin.teo\\Documents\n",
      "C:\\Users\\boonsin.teo\\Documents\\Quandl\n",
      "C:\\Users\\boonsin.teo\\Documents\\Quandl\\G\n",
      "C:\\Users\\boonsin.teo\\Documents\\Quandl\\G\\Aug\n",
      "C:\\Users\\boonsin.teo\\Documents\\Quandl\\G\n",
      "C:\\Users\\boonsin.teo\\Documents\\Quandl\n",
      "C:\\Users\\boonsin.teo\\Documents\n"
     ]
    },
    {
     "name": "stderr",
     "output_type": "stream",
     "text": [
      "C:\\Anaconda\\lib\\site-packages\\ipykernel_launcher.py:185: FutureWarning: pd.rolling_mean is deprecated for Series and will be removed in a future version, replace with \n",
      "\tSeries.rolling(window=20,center=False).mean()\n",
      "C:\\Anaconda\\lib\\site-packages\\ipykernel_launcher.py:186: FutureWarning: pd.rolling_std is deprecated for Series and will be removed in a future version, replace with \n",
      "\tSeries.rolling(window=20,center=False).std()\n",
      "C:\\Anaconda\\lib\\site-packages\\ipykernel_launcher.py:196: SettingWithCopyWarning: \n",
      "A value is trying to be set on a copy of a slice from a DataFrame\n",
      "\n",
      "See the caveats in the documentation: http://pandas.pydata.org/pandas-docs/stable/indexing.html#indexing-view-versus-copy\n",
      "C:\\Anaconda\\lib\\site-packages\\ipykernel_launcher.py:197: SettingWithCopyWarning: \n",
      "A value is trying to be set on a copy of a slice from a DataFrame\n",
      "\n",
      "See the caveats in the documentation: http://pandas.pydata.org/pandas-docs/stable/indexing.html#indexing-view-versus-copy\n",
      "C:\\Anaconda\\lib\\site-packages\\ipykernel_launcher.py:199: SettingWithCopyWarning: \n",
      "A value is trying to be set on a copy of a slice from a DataFrame\n",
      "\n",
      "See the caveats in the documentation: http://pandas.pydata.org/pandas-docs/stable/indexing.html#indexing-view-versus-copy\n",
      "C:\\Anaconda\\lib\\site-packages\\ipykernel_launcher.py:200: SettingWithCopyWarning: \n",
      "A value is trying to be set on a copy of a slice from a DataFrame\n",
      "\n",
      "See the caveats in the documentation: http://pandas.pydata.org/pandas-docs/stable/indexing.html#indexing-view-versus-copy\n",
      "C:\\Anaconda\\lib\\site-packages\\ipykernel_launcher.py:204: SettingWithCopyWarning: \n",
      "A value is trying to be set on a copy of a slice from a DataFrame\n",
      "\n",
      "See the caveats in the documentation: http://pandas.pydata.org/pandas-docs/stable/indexing.html#indexing-view-versus-copy\n",
      "C:\\Anaconda\\lib\\site-packages\\ipykernel_launcher.py:205: SettingWithCopyWarning: \n",
      "A value is trying to be set on a copy of a slice from a DataFrame\n",
      "\n",
      "See the caveats in the documentation: http://pandas.pydata.org/pandas-docs/stable/indexing.html#indexing-view-versus-copy\n",
      "C:\\Anaconda\\lib\\site-packages\\ipykernel_launcher.py:206: SettingWithCopyWarning: \n",
      "A value is trying to be set on a copy of a slice from a DataFrame\n",
      "\n",
      "See the caveats in the documentation: http://pandas.pydata.org/pandas-docs/stable/indexing.html#indexing-view-versus-copy\n",
      "C:\\Anaconda\\lib\\site-packages\\ipykernel_launcher.py:210: SettingWithCopyWarning: \n",
      "A value is trying to be set on a copy of a slice from a DataFrame\n",
      "\n",
      "See the caveats in the documentation: http://pandas.pydata.org/pandas-docs/stable/indexing.html#indexing-view-versus-copy\n",
      "C:\\Anaconda\\lib\\site-packages\\ipykernel_launcher.py:211: SettingWithCopyWarning: \n",
      "A value is trying to be set on a copy of a slice from a DataFrame\n",
      "\n",
      "See the caveats in the documentation: http://pandas.pydata.org/pandas-docs/stable/indexing.html#indexing-view-versus-copy\n",
      "C:\\Anaconda\\lib\\site-packages\\ipykernel_launcher.py:212: SettingWithCopyWarning: \n",
      "A value is trying to be set on a copy of a slice from a DataFrame\n",
      "\n",
      "See the caveats in the documentation: http://pandas.pydata.org/pandas-docs/stable/indexing.html#indexing-view-versus-copy\n"
     ]
    },
    {
     "name": "stdout",
     "output_type": "stream",
     "text": [
      "C:\\Users\\boonsin.teo\\Documents\\Quandl\n",
      "C:\\Users\\boonsin.teo\\Documents\\Quandl\\HO\n",
      "C:\\Users\\boonsin.teo\\Documents\\Quandl\\HO\\Sep\n",
      "C:\\Users\\boonsin.teo\\Documents\\Quandl\\HO\n",
      "C:\\Users\\boonsin.teo\\Documents\\Quandl\n",
      "C:\\Users\\boonsin.teo\\Documents\n",
      "C:\\Users\\boonsin.teo\\Documents\\Quandl\n",
      "C:\\Users\\boonsin.teo\\Documents\\Quandl\\G\n",
      "C:\\Users\\boonsin.teo\\Documents\\Quandl\\G\\Sep\n",
      "C:\\Users\\boonsin.teo\\Documents\\Quandl\\G\n",
      "C:\\Users\\boonsin.teo\\Documents\\Quandl\n",
      "C:\\Users\\boonsin.teo\\Documents\n",
      "C:\\Users\\boonsin.teo\\Documents\\Quandl\n",
      "C:\\Users\\boonsin.teo\\Documents\\Quandl\\HO\n",
      "C:\\Users\\boonsin.teo\\Documents\\Quandl\\HO\\Oct\n",
      "C:\\Users\\boonsin.teo\\Documents\\Quandl\\HO\n",
      "C:\\Users\\boonsin.teo\\Documents\\Quandl\n",
      "C:\\Users\\boonsin.teo\\Documents\n",
      "C:\\Users\\boonsin.teo\\Documents\\Quandl\n",
      "C:\\Users\\boonsin.teo\\Documents\\Quandl\\G\n",
      "C:\\Users\\boonsin.teo\\Documents\\Quandl\\G\\Oct\n",
      "C:\\Users\\boonsin.teo\\Documents\\Quandl\\G\n",
      "C:\\Users\\boonsin.teo\\Documents\\Quandl\n",
      "C:\\Users\\boonsin.teo\\Documents\n",
      "C:\\Users\\boonsin.teo\\Documents\\Quandl\n",
      "C:\\Users\\boonsin.teo\\Documents\\Quandl\\HO\n",
      "C:\\Users\\boonsin.teo\\Documents\\Quandl\\HO\\Nov\n",
      "C:\\Users\\boonsin.teo\\Documents\\Quandl\\HO\n",
      "C:\\Users\\boonsin.teo\\Documents\\Quandl\n",
      "C:\\Users\\boonsin.teo\\Documents\n",
      "C:\\Users\\boonsin.teo\\Documents\\Quandl\n",
      "C:\\Users\\boonsin.teo\\Documents\\Quandl\\G\n",
      "C:\\Users\\boonsin.teo\\Documents\\Quandl\\G\\Nov\n",
      "C:\\Users\\boonsin.teo\\Documents\\Quandl\\G\n",
      "C:\\Users\\boonsin.teo\\Documents\\Quandl\n",
      "C:\\Users\\boonsin.teo\\Documents\n"
     ]
    }
   ],
   "source": [
    "###user specify instrument and contract month\n",
    "\n",
    "adf={}\n",
    "hedge_ratio={}\n",
    "final_pnl={}\n",
    "z_score_final={}\n",
    "\n",
    "product1=''\n",
    "month1=''\n",
    "product2=''\n",
    "month2=''\n",
    "\n",
    "front_mth=Mth_1()\n",
    "product1 = front_mth.pdt_type1()\n",
    "\n",
    "front_month,count1=front_mth.mth_no1()\n",
    "seasonal_year1=str(raw_input('Please specify the contract year: '))\n",
    "\n",
    "back_mth=Mth_2()\n",
    "product2=back_mth.pdt_type2()\n",
    "\n",
    "back_month=back_mth.mth_no2()\n",
    "\n",
    "seasonal_year2=str(raw_input('Please specify the contract year: '))\n",
    "\n",
    "#user specify period\n",
    "start_mth=raw_input('Please input start mth of seasonal period in MM format: ')\n",
    "start_day=raw_input('Please input start day of seasonal period in DD format: ')\n",
    "#i=int(raw_input('Please input 1 if start mth is the same as contract year and 0 if not: '))\n",
    "            \n",
    "end_mth=raw_input('Please input end mth of seasonal period in MM format: ')\n",
    "end_day=raw_input('Please input end day of seasonal period in DD format: ')\n",
    "            \n",
    "#j=int(raw_input('Please input 1 if end mth is the same as contract year and 0 if not: '))\n",
    "\n",
    "lookback=int(raw_input('Please input the lookback period: '))\n",
    "z_score_entry=float(raw_input('Please input the z score for trade entry as a positive float number: '))\n",
    "z_score_exit=float(raw_input('Please input the z score for trade exit as a positive float number: '))\n",
    "\n",
    "\n",
    "z_score_date=raw_input(\"Please input the date to check in mm/dd format: \")\n",
    "\n",
    "\n",
    "#start of the big loop\n",
    "\n",
    "count=0\n",
    "\n",
    "while count<=count1:\n",
    "    month1=front_mth.mth_def(front_month,count)\n",
    "    #print month1\n",
    "    \n",
    "    month2=back_mth.mth_def(back_month,count)\n",
    "    #print month2\n",
    "    \n",
    "    \n",
    "    %cd Quandl\n",
    "    %cd $product1\n",
    "    %cd $month1\n",
    "    \n",
    "    \n",
    "    #read files - #front month\n",
    "\n",
    "    path = os.getcwd()\n",
    "    listing = os.listdir(path)\n",
    "\n",
    "    month=month1+\" \"+seasonal_year1+\".xls\"\n",
    "\n",
    "    for infile in listing:\n",
    "        if infile==month:\n",
    "            temp=pd.read_excel(infile)\n",
    "        else:\n",
    "            pass\n",
    "    \n",
    "      \n",
    "    start_date=seasonal_year1+'-'+str(int(start_mth)+count)+'-'+start_day # create start date # assume same year\n",
    "    end_date=seasonal_year1+'-'+str(int(end_mth)+count)+'-'+end_day # create end date # assume same year\n",
    "\n",
    "    #Join a date series and temp together\n",
    "\n",
    "    dates=pd.date_range(start_date, end_date) # range of dates for date axis\n",
    "    dates=dates.strftime('%Y-%m-%d') #make sure no left out dates\n",
    "    sample_data=np.arange(0,len(dates)) #just sample numbers to create dataframe\n",
    "\n",
    "    dates_dataframe=pd.DataFrame({'Date':dates,'data':sample_data}) # create dates dataframe\n",
    "    dates_dataframe=dates_dataframe.set_index('Date') # set index as Date to facilitate joining\n",
    "\n",
    "    temp=temp.set_index('Date') # set index as Date to facilitate joining via dates\n",
    "    temp=dates_dataframe.join(temp) # join dataframes together on Date\n",
    "\n",
    "    #filter dates by the start and end date\n",
    "    temp.reset_index(inplace=True)\n",
    "    \n",
    "    temp=temp[temp['Date']>=start_date] # filter for start date\n",
    "\n",
    "    temp=temp[temp['Date']<=end_date] # filter for end date\n",
    "\n",
    "    temp['Date']=pd.to_datetime(temp['Date']).dt.strftime('%m/%d') # putting date in mm/dd form\n",
    "    temp=temp.set_index('Date') # putting date back as index\n",
    "\n",
    "    temp=pd.DataFrame(temp['Settle'],columns=['Settle']) # setting dataframe with date and settle only\n",
    "    temp=temp.rename(index=str,columns={\"Settle\":\"Front_Month_Settle\"})\n",
    "\n",
    "    temp.head()\n",
    "\n",
    "\n",
    "    %cd ..\n",
    "    %cd ..\n",
    "    %cd ..\n",
    "    \n",
    "    ####front month done\n",
    "    \n",
    "    \n",
    "    #start for back month\n",
    "\n",
    "    %cd Quandl\n",
    "    %cd $product2\n",
    "    %cd $month2\n",
    "\n",
    "\n",
    "    #read files - #back month\n",
    "\n",
    "    path = os.getcwd()\n",
    "    listing = os.listdir(path)\n",
    "\n",
    "    month=month2+\" \"+seasonal_year2+\".xls\"\n",
    "\n",
    "    for infile in listing:\n",
    "        if infile==month:\n",
    "            temp1=pd.read_excel(infile)\n",
    "        else:\n",
    "            pass\n",
    "\n",
    "    start_date=seasonal_year1+'-'+str(int(start_mth)+count)+'-'+start_day # create start date # assume same year\n",
    "    end_date=seasonal_year1+'-'+str(int(end_mth)+count)+'-'+end_day # create end date # assume same year\n",
    "\n",
    "\n",
    "    #Join a date dataframe and the temp dataframe together\n",
    "            \n",
    "    dates=pd.date_range(start_date, end_date) # range of dates for date axis\n",
    "    dates=dates.strftime('%Y-%m-%d') #make sure no left out dates\n",
    "    sample_data=np.arange(0,len(dates)) #just sample numbers to create dataframe\n",
    "    \n",
    "    dates_dataframe=pd.DataFrame({'Date':dates,'data':sample_data}) # create dates dataframe\n",
    "    dates_dataframe=dates_dataframe.set_index('Date') # set index as Date to facilitate joining\n",
    "    \n",
    "    temp1=temp1.set_index('Date') # set index as Date to facilitate joining\n",
    "\n",
    "    temp1=dates_dataframe.join(temp1) # join dataframes together on Date\n",
    "\n",
    "    #filter dates by the start and end date\n",
    "    temp1.reset_index(inplace=True)\n",
    "    \n",
    "    temp1=temp1[temp1['Date']>=start_date] # filter for start date\n",
    "\n",
    "    temp1=temp1[temp1['Date']<=end_date] # filter for end date\n",
    "\n",
    "    temp1['Date']=pd.to_datetime(temp1['Date']).dt.strftime('%m/%d') # putting date in mm/dd form\n",
    "    temp1=temp1.set_index('Date') # putting date back as index\n",
    "    temp1=pd.DataFrame(temp1['Settle'],columns=['Settle'])\n",
    "    temp1=temp1.rename(index=str,columns={\"Settle\":\"Back_Month_Settle\"})\n",
    "\n",
    "    #join front month and back month\n",
    "\n",
    "    temp=temp.join(temp1)\n",
    "\n",
    "    %cd ..\n",
    "    %cd ..\n",
    "    %cd ..\n",
    "\n",
    "    ####end of back month\n",
    "\n",
    "    #drop rows with all NAs\n",
    "    temp.dropna(axis=0,how='any',inplace=True) # drop rows with all NAs\n",
    "\n",
    "    zf=apply_factor(product1,product2)    \n",
    "    \n",
    "    \n",
    "    \n",
    "    #adf calculation\n",
    "    temp['Spread']=temp['Front_Month_Settle']*zf[0]-temp['Back_Month_Settle']*zf[1]\n",
    "    #adf[month1]=float(ts.adfuller(temp['Spread'])[0])\n",
    "    \n",
    "    \n",
    "    #calculation of MA and STD and z_score\n",
    "    temp['MA']=pd.rolling_mean(temp['Spread'],lookback)\n",
    "    temp['M_STD']=pd.rolling_std(temp['Spread'],lookback)\n",
    "    temp['z_score']=(temp['Spread']-temp['MA'])/temp['M_STD']\n",
    "    \n",
    "    #calculate positions\n",
    "    \n",
    "    temp['long_entry']=temp['z_score'] <= -z_score_entry\n",
    "    temp['long_exit']=temp['z_score']>=-z_score_exit\n",
    "    temp['short_entry']=temp['z_score']>=z_score_entry\n",
    "    temp['short_exit']=temp['z_score']<=z_score_exit\n",
    "\n",
    "    temp['long_entry'][temp['long_entry']==True]=2\n",
    "    temp['long_exit'][temp['long_exit']==True]=-1\n",
    "\n",
    "    temp['short_entry'][temp['short_entry']==True]=-2\n",
    "    temp['short_exit'][temp['short_exit']==True]=1\n",
    "\n",
    "    temp['long_positions']=temp['long_entry']+temp['long_exit']\n",
    "\n",
    "    temp['long_positions'][temp['long_positions']==0]=np.nan\n",
    "    temp['long_positions'][temp['long_positions']==-1]=0\n",
    "    temp['long_positions'][temp['long_positions']==2]=1\n",
    "    temp['long_positions']=temp['long_positions'].fillna(method='ffill')\n",
    "\n",
    "    temp['short_positions']=temp['short_entry']+temp['short_exit']\n",
    "    temp['short_positions'][temp['short_positions']==0]=np.nan\n",
    "    temp['short_positions'][temp['short_positions']==1]=0\n",
    "    temp['short_positions'][temp['short_positions']==-2]=-1\n",
    "    temp['short_positions']=temp['short_positions'].fillna(method='ffill')\n",
    "                            \n",
    "    temp['positions']=temp['long_positions']+temp['short_positions'] \n",
    "    \n",
    "    #hedge ratio calculation\n",
    "    #model=sm.OLS(temp['Front_Month_Settle']*zf[0], temp['Back_Month_Settle']*zf[1])\n",
    "    #model=model.fit()\n",
    "    #hedge_ratio[month1]=model.params[0]\n",
    "    \n",
    "    #pnl calculation\n",
    "    \n",
    "    temp['pnl']=temp['positions'].shift(1)*(temp['Spread']-temp['Spread'].shift(1))*1000\n",
    "\n",
    "    temp['cumpnl']=temp['pnl'].cumsum()\n",
    "\n",
    "    final_pnl[month1]=temp['cumpnl'].tail(1).sum()\n",
    "    \n",
    "    z_score_final[month1]=temp['z_score'].loc[z_score_date] \n",
    "\n",
    "    \n",
    "    ##calculating z-score on exact date\n",
    "       \n",
    "    count+=1\n",
    "    \n",
    "\n",
    "\n"
   ]
  },
  {
   "cell_type": "code",
   "execution_count": 97,
   "metadata": {},
   "outputs": [
    {
     "data": {
      "text/plain": [
       "{'Aug': -2.0491100563112337,\n",
       " 'Nov': -7.711733875619664,\n",
       " 'Oct': -7.2728453094602346,\n",
       " 'Sep': -2.543263460474875}"
      ]
     },
     "execution_count": 97,
     "metadata": {},
     "output_type": "execute_result"
    }
   ],
   "source": [
    "#adf"
   ]
  },
  {
   "cell_type": "code",
   "execution_count": 98,
   "metadata": {},
   "outputs": [],
   "source": [
    "#hedge_ratio"
   ]
  },
  {
   "cell_type": "code",
   "execution_count": 99,
   "metadata": {},
   "outputs": [
    {
     "data": {
      "text/plain": [
       "{'Aug': 3020.2724832214608,\n",
       " 'Nov': 0.0,\n",
       " 'Oct': 917.96241610737184,\n",
       " 'Sep': 947.4483221476504}"
      ]
     },
     "execution_count": 99,
     "metadata": {},
     "output_type": "execute_result"
    }
   ],
   "source": [
    "final_pnl"
   ]
  },
  {
   "cell_type": "code",
   "execution_count": 100,
   "metadata": {},
   "outputs": [
    {
     "data": {
      "text/plain": [
       "{'Aug': -1.0110383856515968,\n",
       " 'Nov': -1.1152472444802317,\n",
       " 'Oct': -0.98938349299935491,\n",
       " 'Sep': -0.98380926249977585}"
      ]
     },
     "execution_count": 100,
     "metadata": {},
     "output_type": "execute_result"
    }
   ],
   "source": [
    "z_score_final"
   ]
  },
  {
   "cell_type": "code",
   "execution_count": null,
   "metadata": {
    "collapsed": true
   },
   "outputs": [],
   "source": []
  },
  {
   "cell_type": "code",
   "execution_count": null,
   "metadata": {},
   "outputs": [],
   "source": []
  },
  {
   "cell_type": "code",
   "execution_count": null,
   "metadata": {},
   "outputs": [],
   "source": []
  },
  {
   "cell_type": "code",
   "execution_count": null,
   "metadata": {},
   "outputs": [],
   "source": []
  },
  {
   "cell_type": "code",
   "execution_count": null,
   "metadata": {},
   "outputs": [],
   "source": []
  },
  {
   "cell_type": "code",
   "execution_count": null,
   "metadata": {},
   "outputs": [],
   "source": []
  },
  {
   "cell_type": "code",
   "execution_count": null,
   "metadata": {},
   "outputs": [],
   "source": []
  },
  {
   "cell_type": "code",
   "execution_count": null,
   "metadata": {},
   "outputs": [],
   "source": []
  },
  {
   "cell_type": "code",
   "execution_count": null,
   "metadata": {
    "collapsed": true
   },
   "outputs": [],
   "source": []
  },
  {
   "cell_type": "code",
   "execution_count": null,
   "metadata": {
    "collapsed": true
   },
   "outputs": [],
   "source": []
  },
  {
   "cell_type": "code",
   "execution_count": null,
   "metadata": {},
   "outputs": [],
   "source": []
  },
  {
   "cell_type": "code",
   "execution_count": null,
   "metadata": {},
   "outputs": [],
   "source": []
  },
  {
   "cell_type": "code",
   "execution_count": null,
   "metadata": {},
   "outputs": [],
   "source": []
  },
  {
   "cell_type": "code",
   "execution_count": null,
   "metadata": {
    "collapsed": true
   },
   "outputs": [],
   "source": []
  },
  {
   "cell_type": "code",
   "execution_count": null,
   "metadata": {
    "collapsed": true
   },
   "outputs": [],
   "source": []
  },
  {
   "cell_type": "code",
   "execution_count": null,
   "metadata": {
    "collapsed": true
   },
   "outputs": [],
   "source": []
  },
  {
   "cell_type": "code",
   "execution_count": null,
   "metadata": {},
   "outputs": [],
   "source": []
  },
  {
   "cell_type": "code",
   "execution_count": null,
   "metadata": {
    "collapsed": true
   },
   "outputs": [],
   "source": []
  },
  {
   "cell_type": "code",
   "execution_count": null,
   "metadata": {},
   "outputs": [],
   "source": []
  },
  {
   "cell_type": "code",
   "execution_count": null,
   "metadata": {},
   "outputs": [],
   "source": []
  },
  {
   "cell_type": "code",
   "execution_count": null,
   "metadata": {
    "collapsed": true
   },
   "outputs": [],
   "source": []
  },
  {
   "cell_type": "code",
   "execution_count": null,
   "metadata": {
    "collapsed": true
   },
   "outputs": [],
   "source": []
  },
  {
   "cell_type": "code",
   "execution_count": null,
   "metadata": {
    "collapsed": true
   },
   "outputs": [],
   "source": []
  },
  {
   "cell_type": "code",
   "execution_count": null,
   "metadata": {
    "collapsed": true
   },
   "outputs": [],
   "source": []
  },
  {
   "cell_type": "code",
   "execution_count": null,
   "metadata": {
    "collapsed": true
   },
   "outputs": [],
   "source": []
  },
  {
   "cell_type": "code",
   "execution_count": null,
   "metadata": {},
   "outputs": [],
   "source": []
  },
  {
   "cell_type": "code",
   "execution_count": null,
   "metadata": {
    "collapsed": true
   },
   "outputs": [],
   "source": []
  },
  {
   "cell_type": "code",
   "execution_count": null,
   "metadata": {},
   "outputs": [],
   "source": []
  },
  {
   "cell_type": "code",
   "execution_count": null,
   "metadata": {
    "scrolled": true
   },
   "outputs": [],
   "source": []
  },
  {
   "cell_type": "code",
   "execution_count": null,
   "metadata": {},
   "outputs": [],
   "source": []
  },
  {
   "cell_type": "code",
   "execution_count": null,
   "metadata": {},
   "outputs": [],
   "source": []
  },
  {
   "cell_type": "code",
   "execution_count": null,
   "metadata": {
    "collapsed": true
   },
   "outputs": [],
   "source": []
  },
  {
   "cell_type": "code",
   "execution_count": null,
   "metadata": {
    "collapsed": true
   },
   "outputs": [],
   "source": []
  },
  {
   "cell_type": "code",
   "execution_count": null,
   "metadata": {
    "collapsed": true
   },
   "outputs": [],
   "source": []
  },
  {
   "cell_type": "code",
   "execution_count": null,
   "metadata": {
    "collapsed": true
   },
   "outputs": [],
   "source": []
  },
  {
   "cell_type": "code",
   "execution_count": null,
   "metadata": {
    "collapsed": true
   },
   "outputs": [],
   "source": []
  },
  {
   "cell_type": "code",
   "execution_count": null,
   "metadata": {
    "collapsed": true
   },
   "outputs": [],
   "source": []
  },
  {
   "cell_type": "code",
   "execution_count": null,
   "metadata": {
    "collapsed": true
   },
   "outputs": [],
   "source": []
  },
  {
   "cell_type": "code",
   "execution_count": null,
   "metadata": {
    "collapsed": true
   },
   "outputs": [],
   "source": []
  },
  {
   "cell_type": "code",
   "execution_count": null,
   "metadata": {
    "collapsed": true,
    "scrolled": true
   },
   "outputs": [],
   "source": []
  },
  {
   "cell_type": "code",
   "execution_count": null,
   "metadata": {
    "collapsed": true
   },
   "outputs": [],
   "source": []
  },
  {
   "cell_type": "code",
   "execution_count": null,
   "metadata": {
    "collapsed": true
   },
   "outputs": [],
   "source": []
  },
  {
   "cell_type": "code",
   "execution_count": null,
   "metadata": {
    "collapsed": true
   },
   "outputs": [],
   "source": []
  },
  {
   "cell_type": "code",
   "execution_count": null,
   "metadata": {
    "collapsed": true
   },
   "outputs": [],
   "source": []
  },
  {
   "cell_type": "code",
   "execution_count": null,
   "metadata": {
    "collapsed": true
   },
   "outputs": [],
   "source": []
  },
  {
   "cell_type": "code",
   "execution_count": null,
   "metadata": {
    "collapsed": true
   },
   "outputs": [],
   "source": []
  },
  {
   "cell_type": "code",
   "execution_count": null,
   "metadata": {
    "collapsed": true
   },
   "outputs": [],
   "source": []
  },
  {
   "cell_type": "code",
   "execution_count": null,
   "metadata": {
    "collapsed": true
   },
   "outputs": [],
   "source": []
  },
  {
   "cell_type": "code",
   "execution_count": null,
   "metadata": {
    "collapsed": true
   },
   "outputs": [],
   "source": []
  },
  {
   "cell_type": "code",
   "execution_count": null,
   "metadata": {
    "collapsed": true
   },
   "outputs": [],
   "source": []
  },
  {
   "cell_type": "code",
   "execution_count": null,
   "metadata": {
    "collapsed": true
   },
   "outputs": [],
   "source": [
    "\n",
    "\n"
   ]
  }
 ],
 "metadata": {
  "kernelspec": {
   "display_name": "Python 2",
   "language": "python",
   "name": "python2"
  },
  "language_info": {
   "codemirror_mode": {
    "name": "ipython",
    "version": 2
   },
   "file_extension": ".py",
   "mimetype": "text/x-python",
   "name": "python",
   "nbconvert_exporter": "python",
   "pygments_lexer": "ipython2",
   "version": "2.7.13"
  }
 },
 "nbformat": 4,
 "nbformat_minor": 2
}
